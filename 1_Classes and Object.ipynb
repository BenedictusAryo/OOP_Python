{
 "cells": [
  {
   "cell_type": "markdown",
   "metadata": {},
   "source": [
    "# Classes and Object\n",
    "\n",
    "## The Need to go for classes and objects:\n",
    "\n",
    "Say, we have a function called `calculateSalary()` This function is made globally so it can be accessed by **`Employee`** and **`Student`**.\n",
    "\n",
    "We want to restrict the access to this function only to and **`Employee`** and **NOT** to a **`Student`**.\n",
    "\n",
    "So classes and objects help us do that by placing this function called `calculateSalary()` within a box and we seal that box and make it available only to an **Employee**.\n",
    "\n",
    "<br><br>\n",
    "\n",
    "## Class\n",
    "A class is logical grouping of attributes(variables) and\n",
    "methods(functions)\n",
    "\n",
    "* __Syntax:__\n",
    "```python\n",
    "class ClassName:\n",
    "    # class body\n",
    "```\n"
   ]
  },
  {
   "cell_type": "code",
   "execution_count": null,
   "metadata": {},
   "outputs": [],
   "source": []
  }
 ],
 "metadata": {
  "kernelspec": {
   "display_name": "Python 3",
   "language": "python",
   "name": "python3"
  },
  "language_info": {
   "codemirror_mode": {
    "name": "ipython",
    "version": 3
   },
   "file_extension": ".py",
   "mimetype": "text/x-python",
   "name": "python",
   "nbconvert_exporter": "python",
   "pygments_lexer": "ipython3",
   "version": "3.7.4"
  }
 },
 "nbformat": 4,
 "nbformat_minor": 4
}
