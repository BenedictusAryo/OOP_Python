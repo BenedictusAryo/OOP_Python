{
 "cells": [
  {
   "cell_type": "markdown",
   "metadata": {},
   "source": [
    "# 3. Abstraction and Encapsulation\n",
    "\n",
    "## Abstraction\n",
    "Abstraction is one of the key concepts of object-oriented programming (OOP) languages. Its main goal is to **`handle complexity by hiding unnecessary details from the user.`** That enables the user to implement more complex logic on top of the provided abstraction without understanding or even thinking about all the hidden complexity. [Source](https://stackify.com/oop-concept-abstraction/)\n",
    "\n",
    "## Encapsulation\n",
    "Encapsulation is the **`process of hiding implementation details from the user.`** Encapsulation is used to restrict access to methods and variables. In encapsulation, code and data are wrapped together within a single unit from being modified by accident.\n",
    "\n",
    "## Problem Statement\n",
    "<img src=\"assets/5_abstraction encapsulation statement.png\" width=\"600\" align=\"left\">"
   ]
  },
  {
   "cell_type": "markdown",
   "metadata": {},
   "source": [
    "## Problem Solving\n",
    "* Create Class:\n",
    "    1. **Library**\n",
    "    2. **Customer**\n",
    "* **Library** Class Abstraction:\n",
    "    1. `Display Available Books`\n",
    "    2. `Lend Book`\n",
    "    3. `Add Book`\n",
    "* **Customer** Class Abstraction:\n",
    "    1. `Request Book`\n",
    "    2. `Return Book`"
   ]
  },
  {
   "cell_type": "code",
   "execution_count": null,
   "metadata": {},
   "outputs": [],
   "source": [
    "class Library:\n",
    "    def __init__(self, listOfBooks):\n",
    "        self.availableBooks = listOfBooks\n",
    "        \n",
    "    def displayAvailableBooks(self):\n",
    "        print(\"\\nAvailable Nooks: \")\n",
    "        for num, book in enumerate(self.availableBooks):\n",
    "            print(f\"{num+1}. {book}\")\n",
    "    \n",
    "    def lendBook(self, requestedBook):\n",
    "        if requestedBook in self.availableBooks:\n",
    "            print(\"You have now borrowed the book\")\n",
    "            self.availableBooks.remove(requestedBook)\n",
    "        else:\n",
    "            print(\"Sorry, the book you requested is not available in our list.\")\n",
    "    \n",
    "    def addBook(self, returnedBook):\n",
    "        self.availableBooks.append(returnedBook)\n",
    "        print(\"You have returned the book. Thank you!\")\n",
    "    \n",
    "class Customer:\n",
    "    def requestBook(self):\n",
    "        print(\"Enter the name of a book you would like to borrow: \")\n",
    "        self.book = input()\n",
    "        return self.book\n",
    "    \n",
    "    def returnBook(self):\n",
    "        print(\"Enter the name of the book which you are returning: \")\n",
    "        self.book = input()\n",
    "        return self.book\n",
    "    \n",
    "library = Library(['Think and Grow Rich', \n",
    "                   'Who Will Cry When You Die',\n",
    "                   'For One More Day'])\n",
    "customer = Customer()\n",
    "\n",
    "while True:\n",
    "    print()\n",
    "    print(\"Welcome to the Library, please select the menu\\n\")\n",
    "    print(\"Enter 1 to display the available books\")\n",
    "    print(\"Enter 2 to request for a book\")\n",
    "    print(\"Enter 3 to return a book\")\n",
    "    print(\"Enter 4 to Exit\")\n",
    "\n",
    "    userChoice = int(input())\n",
    "    if userChoice is 1:\n",
    "        library.displayAvailableBooks()\n",
    "    elif userChoice is 2:\n",
    "        requestedBook = customer.requestBook()\n",
    "        library.lendBook(requestedBook)\n",
    "    elif userChoice is 3:\n",
    "        returnedBook = customer.returnBook()\n",
    "        library.addBook(returnedBook)\n",
    "    elif userChoice is 4:\n",
    "        break"
   ]
  },
  {
   "cell_type": "code",
   "execution_count": null,
   "metadata": {},
   "outputs": [],
   "source": []
  }
 ],
 "metadata": {
  "kernelspec": {
   "display_name": "Python 3",
   "language": "python",
   "name": "python3"
  },
  "language_info": {
   "codemirror_mode": {
    "name": "ipython",
    "version": 3
   },
   "file_extension": ".py",
   "mimetype": "text/x-python",
   "name": "python",
   "nbconvert_exporter": "python",
   "pygments_lexer": "ipython3",
   "version": "3.7.4"
  }
 },
 "nbformat": 4,
 "nbformat_minor": 4
}
