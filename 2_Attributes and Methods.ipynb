{
 "cells": [
  {
   "cell_type": "markdown",
   "metadata": {},
   "source": [
    "# 2. Attributes and Methods\n",
    "\n",
    "# Data Members\n",
    "Data members are attributes declared within a class. They are properties that further define a class.\n",
    "There are two types of attributes: **`class attributes`** and **`instance attributes`**.\n",
    "\n",
    "## Class Attribute\n",
    "An attribute that is common across all instances of a class is called a class attribute.\n",
    "\n",
    "**_`For Every object of the class which you create, the value of a class attribute will remain the same.`_**\n",
    "\n",
    "Class attributes are accessed by using class name as the\n",
    "prefix.\n",
    "\n",
    "* __Syntax:__\n",
    "```python\n",
    "class className:\n",
    "    classAttribbute = value\n",
    "```"
   ]
  },
  {
   "cell_type": "code",
   "execution_count": 1,
   "metadata": {},
   "outputs": [],
   "source": [
    "# Number of Working hours is same to all of the Employee\n",
    "class Employee:\n",
    "    numberOfWorkingHours = 40    "
   ]
  },
  {
   "cell_type": "code",
   "execution_count": 2,
   "metadata": {},
   "outputs": [
    {
     "data": {
      "text/plain": [
       "40"
      ]
     },
     "execution_count": 2,
     "metadata": {},
     "output_type": "execute_result"
    }
   ],
   "source": [
    "# Create EmployeeOne Object and check the Number of Working hours\n",
    "employeeOne = Employee()\n",
    "employeeOne.numberOfWorkingHours"
   ]
  },
  {
   "cell_type": "code",
   "execution_count": 3,
   "metadata": {},
   "outputs": [
    {
     "data": {
      "text/plain": [
       "40"
      ]
     },
     "execution_count": 3,
     "metadata": {},
     "output_type": "execute_result"
    }
   ],
   "source": [
    "# Create EmployeeTwo Object and check the Number of Working hours\n",
    "employeeTwo = Employee()\n",
    "employeeTwo.numberOfWorkingHours"
   ]
  },
  {
   "cell_type": "markdown",
   "metadata": {},
   "source": [
    "### Change the class attributes"
   ]
  },
  {
   "cell_type": "code",
   "execution_count": 4,
   "metadata": {},
   "outputs": [],
   "source": [
    "# Change the number of working hours to 45\n",
    "Employee.numberOfWorkingHours = 45"
   ]
  },
  {
   "cell_type": "code",
   "execution_count": 5,
   "metadata": {},
   "outputs": [
    {
     "name": "stdout",
     "output_type": "stream",
     "text": [
      "Employee One Working Hours:  45\n",
      "Employee Two Working Hours:  45\n"
     ]
    }
   ],
   "source": [
    "# Check the number of working hours of object created\n",
    "print(\"Employee One Working Hours: \",\n",
    "      employeeOne.numberOfWorkingHours)\n",
    "print(\"Employee Two Working Hours: \",\n",
    "      employeeTwo.numberOfWorkingHours)"
   ]
  },
  {
   "cell_type": "markdown",
   "metadata": {},
   "source": [
    "<br>\n",
    "\n",
    "**_`Changing the Class attribute will affecting all the instance attribute`_**\n",
    "\n",
    "<br>\n",
    "\n",
    "## Instance Attributes\n",
    "An attribute that is **_specific to each instance of a class_**\n",
    "\n",
    "* __Syntax:__\n",
    "```python\n",
    "ObjectInstance.attributes = value\n",
    "```"
   ]
  },
  {
   "cell_type": "code",
   "execution_count": 6,
   "metadata": {},
   "outputs": [
    {
     "data": {
      "text/plain": [
       "'John'"
      ]
     },
     "execution_count": 6,
     "metadata": {},
     "output_type": "execute_result"
    }
   ],
   "source": [
    "# Create Instance Attributes name of each employee object\n",
    "employeeOne.name = 'John'\n",
    "employeeOne.name"
   ]
  },
  {
   "cell_type": "code",
   "execution_count": 7,
   "metadata": {},
   "outputs": [
    {
     "data": {
      "text/plain": [
       "'Mary'"
      ]
     },
     "execution_count": 7,
     "metadata": {},
     "output_type": "execute_result"
    }
   ],
   "source": [
    "employeeTwo.name = 'Mary'\n",
    "employeeTwo.name"
   ]
  },
  {
   "cell_type": "markdown",
   "metadata": {},
   "source": [
    "___\n",
    "\n",
    "# **_`Self`_** Parameters\n",
    "Every instance method accepts has a default parameter that is being accepted. By convention, this parameter is named self.\n",
    "\n",
    "The self parameter is used to refer to the attributes of that instance of the class.\n",
    "\n",
    "\n",
    "* __Syntax:__\n",
    "```python\n",
    "class className:\n",
    "    def methodName(self):\n",
    "        self.instanceAttribute = value\n",
    "```\n",
    "\n",
    "### Why `self` parameter is needed ?\n",
    "\n",
    "Let's try create class method without `self` parameters\n",
    "\n",
    "```python\n",
    "# Create class method without self parameter\n",
    "class Employee:\n",
    "    def employeeDetails():\n",
    "        pass\n",
    "    \n",
    "# Instantiate Object and call the method without self parameter\n",
    "employeeOne = Employee()\n",
    "employeeOne.employeeDetails()\n",
    "```\n",
    "<img src=\"assets/1_without self.png\" width=\"500\" align=\"left\">"
   ]
  },
  {
   "cell_type": "markdown",
   "metadata": {},
   "source": [
    "**Notice, it will throw an error `employeeDetails() takes 0 positional arguments but 1 was given`**\n",
    "\n",
    "When we call \n",
    "```python\n",
    "employeeOne.employeeDetails()\n",
    "``` \n",
    "it's similar with\n",
    "```python\n",
    "Employee.employeeDetails(employeeOne)\n",
    "```\n",
    "Which is **takes 1 argument of the instance itself**, that's why we call it `self` parameter\n",
    "\n",
    "## Make use of Self Parameters"
   ]
  },
  {
   "cell_type": "code",
   "execution_count": 8,
   "metadata": {},
   "outputs": [
    {
     "name": "stdout",
     "output_type": "stream",
     "text": [
      "Name:  Matthew\n"
     ]
    }
   ],
   "source": [
    "# Create class with self parameter inside the method\n",
    "class Employee:\n",
    "    def employeeDetails(self):\n",
    "        self.name = 'Matthew'\n",
    "        print(\"Name: \", self.name)\n",
    "    \n",
    "employeeOne = Employee()\n",
    "employeeOne.employeeDetails()"
   ]
  },
  {
   "cell_type": "markdown",
   "metadata": {},
   "source": [
    "<br>\n",
    "\n",
    "The result will be the same with:\n",
    "\n"
   ]
  },
  {
   "cell_type": "code",
   "execution_count": 9,
   "metadata": {},
   "outputs": [
    {
     "name": "stdout",
     "output_type": "stream",
     "text": [
      "Name:  Matthew\n"
     ]
    }
   ],
   "source": [
    "Employee.employeeDetails(employeeOne)"
   ]
  },
  {
   "cell_type": "markdown",
   "metadata": {},
   "source": [
    "### Create attribute without using `self` parameter"
   ]
  },
  {
   "cell_type": "code",
   "execution_count": 10,
   "metadata": {},
   "outputs": [
    {
     "name": "stdout",
     "output_type": "stream",
     "text": [
      "Age:  30\n"
     ]
    }
   ],
   "source": [
    "class Employee:\n",
    "    def employeeDetails(self):\n",
    "        age = 30\n",
    "        print(\"Age: \", age)\n",
    "    \n",
    "employeeOne = Employee()\n",
    "employeeOne.employeeDetails()"
   ]
  },
  {
   "cell_type": "markdown",
   "metadata": {},
   "source": [
    "<br>\n",
    "\n",
    "The **`Age`** Output is success even without the `self` parameter, then why we need self parameter ?\n",
    "\n",
    "<br>\n",
    "\n",
    "**_`When we create an instance attribute, The objective is for that particular attribute to be available throughout the lifespan of your object`_**\n",
    "\n",
    "<br>\n",
    "\n",
    "> **`Lifespan of object`** => The time the object is being created until the time it's being destroyed **_(When the program terminats or manually delete the object)_**\n",
    "\n",
    "So it means that the **`Age`** attribute should be accessible in other methods of the object as well.\n",
    "\n",
    "```python\n",
    "class Employee:\n",
    "    def employeeDetails(self):\n",
    "        age = 30\n",
    "        print(\"Age: \", age)\n",
    "    # check Age accessible in another method\n",
    "    def printAge(self):\n",
    "        print(\"Print Age: \", age)\n",
    "    \n",
    "employeeOne = Employee()\n",
    "employeeOne.printAge()\n",
    "```\n",
    "\n",
    "<img src=\"assets/2_not accessible.png\" width=\"450\" align=\"left\">\n",
    "\n",
    "This means, this **`age`** attribute cannot be accessed within the **`printAge()`** method.\n",
    "\n",
    "That's because when we create an age attribute, we never used the name of our object. In order **to create an instance attribute, We need to use the name of our object.**\n",
    "\n",
    "So, since we did not use the name of an object, the lifespan of the **`age`** attribute is only within our method. So **once our method termininates, this particular attribute cannot be used in any other methods.**"
   ]
  },
  {
   "cell_type": "code",
   "execution_count": null,
   "metadata": {},
   "outputs": [],
   "source": []
  }
 ],
 "metadata": {
  "kernelspec": {
   "display_name": "Python 3",
   "language": "python",
   "name": "python3"
  },
  "language_info": {
   "codemirror_mode": {
    "name": "ipython",
    "version": 3
   },
   "file_extension": ".py",
   "mimetype": "text/x-python",
   "name": "python",
   "nbconvert_exporter": "python",
   "pygments_lexer": "ipython3",
   "version": "3.7.4"
  }
 },
 "nbformat": 4,
 "nbformat_minor": 4
}
