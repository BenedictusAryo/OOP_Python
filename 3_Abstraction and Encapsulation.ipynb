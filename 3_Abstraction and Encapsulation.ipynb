{
 "cells": [
  {
   "cell_type": "markdown",
   "metadata": {},
   "source": [
    "# 3. Abstraction and Encapsulation\n",
    "\n",
    "## Abstraction\n",
    "Abstraction is one of the key concepts of object-oriented programming (OOP) languages. Its main goal is to **`handle complexity by hiding unnecessary details from the user.`** That enables the user to implement more complex logic on top of the provided abstraction without understanding or even thinking about all the hidden complexity. [Source](https://stackify.com/oop-concept-abstraction/)\n",
    "\n",
    "## Encapsulation\n",
    "Encapsulation is the **`process of hiding implementation details from the user.`** Encapsulation is used to restrict access to methods and variables. In encapsulation, code and data are wrapped together within a single unit from being modified by accident.\n",
    "\n",
    "## Problem Statement\n",
    "<img src=\"assets/5_abstraction encapsulation statement.png\" width=\"500\">"
   ]
  },
  {
   "cell_type": "code",
   "execution_count": null,
   "metadata": {},
   "outputs": [],
   "source": []
  }
 ],
 "metadata": {
  "kernelspec": {
   "display_name": "Python 3",
   "language": "python",
   "name": "python3"
  },
  "language_info": {
   "codemirror_mode": {
    "name": "ipython",
    "version": 3
   },
   "file_extension": ".py",
   "mimetype": "text/x-python",
   "name": "python",
   "nbconvert_exporter": "python",
   "pygments_lexer": "ipython3",
   "version": "3.7.4"
  }
 },
 "nbformat": 4,
 "nbformat_minor": 4
}
