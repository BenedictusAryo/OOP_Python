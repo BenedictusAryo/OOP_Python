{
 "cells": [
  {
   "cell_type": "markdown",
   "metadata": {},
   "source": [
    "# 2. Attributes and Methods\n",
    "\n",
    "# Data Members\n",
    "Data members are attributes declared within a class. They are properties that further define a class.\n",
    "There are two types of attributes: **`class attributes`** and **`instance attributes`**.\n",
    "\n",
    "## Class Attribute\n",
    "An attribute that is common across all instances of a class is called a class attribute.\n",
    "\n",
    "**_`For Every object of the class which you create, the value of a class attribute will remain the same.`_**\n",
    "\n",
    "Class attributes are accessed by using class name as the\n",
    "prefix.\n",
    "\n",
    "* __Syntax:__\n",
    "\n",
    "```python\n",
    "class className:\n",
    "    classAttribbute = value\n",
    "```"
   ]
  },
  {
   "cell_type": "code",
   "execution_count": 3,
   "metadata": {},
   "outputs": [],
   "source": [
    "# Number of Working hours is same to all of the Employee\n",
    "class Employee:\n",
    "    numberOfWorkingHours = 40    "
   ]
  },
  {
   "cell_type": "code",
   "execution_count": 4,
   "metadata": {},
   "outputs": [
    {
     "data": {
      "text/plain": [
       "40"
      ]
     },
     "execution_count": 4,
     "metadata": {},
     "output_type": "execute_result"
    }
   ],
   "source": [
    "# Create EmployeeOne Object and check the Number of Working hours\n",
    "employeeOne = Employee()\n",
    "employeeOne.numberOfWorkingHours"
   ]
  },
  {
   "cell_type": "code",
   "execution_count": 5,
   "metadata": {},
   "outputs": [
    {
     "data": {
      "text/plain": [
       "40"
      ]
     },
     "execution_count": 5,
     "metadata": {},
     "output_type": "execute_result"
    }
   ],
   "source": [
    "# Create EmployeeTwo Object and check the Number of Working hours\n",
    "employeeTwo = Employee()\n",
    "employeeTwo.numberOfWorkingHours"
   ]
  },
  {
   "cell_type": "markdown",
   "metadata": {},
   "source": [
    "### Change the class attributes"
   ]
  },
  {
   "cell_type": "code",
   "execution_count": 6,
   "metadata": {},
   "outputs": [],
   "source": [
    "# Change the number of working hours to 45\n",
    "Employee.numberOfWorkingHours = 45"
   ]
  },
  {
   "cell_type": "code",
   "execution_count": 7,
   "metadata": {},
   "outputs": [
    {
     "name": "stdout",
     "output_type": "stream",
     "text": [
      "Employee One Working Hours:  45\n",
      "Employee Two Working Hours:  45\n"
     ]
    }
   ],
   "source": [
    "# Check the number of working hours of object created\n",
    "print(\"Employee One Working Hours: \",\n",
    "      employeeOne.numberOfWorkingHours)\n",
    "print(\"Employee Two Working Hours: \",\n",
    "      employeeTwo.numberOfWorkingHours)"
   ]
  },
  {
   "cell_type": "markdown",
   "metadata": {},
   "source": [
    "<br>\n",
    "\n",
    "**_`Class attribute is common to all the instance attribute`_**"
   ]
  },
  {
   "cell_type": "code",
   "execution_count": null,
   "metadata": {},
   "outputs": [],
   "source": []
  }
 ],
 "metadata": {
  "kernelspec": {
   "display_name": "Python 3",
   "language": "python",
   "name": "python3"
  },
  "language_info": {
   "codemirror_mode": {
    "name": "ipython",
    "version": 3
   },
   "file_extension": ".py",
   "mimetype": "text/x-python",
   "name": "python",
   "nbconvert_exporter": "python",
   "pygments_lexer": "ipython3",
   "version": "3.7.4"
  }
 },
 "nbformat": 4,
 "nbformat_minor": 4
}
