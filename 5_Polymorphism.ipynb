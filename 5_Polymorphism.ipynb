{
 "cells": [
  {
   "cell_type": "markdown",
   "metadata": {},
   "source": [
    "# 5. Polymorphism\n",
    "The word **`Poly`** means _**Many**_ and **`Morph`** means _**Forms**_.\n",
    "\n",
    "Polymorphism means The same interface existing in different forms.\n",
    "\n",
    "**Example :**\n",
    "\n",
    "An addition between two integers **`2 + 2`** return **`4`** whereas an addition between two strings **`\"Hello\" + \"World\"`** concatenates it to **`\"Hello World\"`**"
   ]
  },
  {
   "cell_type": "code",
   "execution_count": null,
   "metadata": {},
   "outputs": [],
   "source": []
  }
 ],
 "metadata": {
  "kernelspec": {
   "display_name": "Python 3",
   "language": "python",
   "name": "python3"
  },
  "language_info": {
   "codemirror_mode": {
    "name": "ipython",
    "version": 3
   },
   "file_extension": ".py",
   "mimetype": "text/x-python",
   "name": "python",
   "nbconvert_exporter": "python",
   "pygments_lexer": "ipython3",
   "version": "3.7.4"
  }
 },
 "nbformat": 4,
 "nbformat_minor": 4
}
